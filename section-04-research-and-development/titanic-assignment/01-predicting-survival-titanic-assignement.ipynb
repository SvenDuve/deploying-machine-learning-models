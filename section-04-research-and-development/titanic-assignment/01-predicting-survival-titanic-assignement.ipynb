{
 "cells": [
  {
   "cell_type": "markdown",
   "source": [
    "## Predicting Survival on the Titanic\n",
    "\n",
    "### History\n",
    "Perhaps one of the most infamous shipwrecks in history, the Titanic sank after colliding with an iceberg, killing 1502 out of 2224 people on board. Interestingly, by analysing the probability of survival based on few attributes like gender, age, and social status, we can make very accurate predictions on which passengers would survive. Some groups of people were more likely to survive than others, such as women, children, and the upper-class. Therefore, we can learn about the society priorities and privileges at the time.\n",
    "\n",
    "### Assignment:\n",
    "\n",
    "Build a Machine Learning Pipeline, to engineer the features in the data set and predict who is more likely to Survive the catastrophe.\n",
    "\n",
    "Follow the Jupyter notebook below, and complete the missing bits of code, to achieve each one of the pipeline steps."
   ],
   "metadata": {}
  },
  {
   "cell_type": "code",
   "execution_count": 260,
   "source": [
    "import re\n",
    "\n",
    "# to handle datasets\n",
    "import pandas as pd\n",
    "import numpy as np\n",
    "\n",
    "# for visualization\n",
    "import matplotlib.pyplot as plt\n",
    "\n",
    "# to divide train and test set\n",
    "from sklearn.model_selection import train_test_split\n",
    "\n",
    "# feature scaling\n",
    "from sklearn.preprocessing import StandardScaler\n",
    "\n",
    "# to build the models\n",
    "from sklearn.linear_model import LogisticRegression\n",
    "\n",
    "# to evaluate the models\n",
    "from sklearn.metrics import accuracy_score, roc_auc_score\n",
    "\n",
    "# to persist the model and the scaler\n",
    "import joblib\n",
    "\n",
    "# to visualise al the columns in the dataframe\n",
    "pd.pandas.set_option('display.max_columns', None)"
   ],
   "outputs": [],
   "metadata": {}
  },
  {
   "cell_type": "markdown",
   "source": [
    "## Prepare the data set"
   ],
   "metadata": {}
  },
  {
   "cell_type": "code",
   "execution_count": 261,
   "source": [
    "# load the data - it is available open source and online\n",
    "\n",
    "data = pd.read_csv('https://www.openml.org/data/get_csv/16826755/phpMYEkMl')\n",
    "\n",
    "# display data\n",
    "data.head()"
   ],
   "outputs": [
    {
     "output_type": "execute_result",
     "data": {
      "text/html": [
       "<div>\n",
       "<style scoped>\n",
       "    .dataframe tbody tr th:only-of-type {\n",
       "        vertical-align: middle;\n",
       "    }\n",
       "\n",
       "    .dataframe tbody tr th {\n",
       "        vertical-align: top;\n",
       "    }\n",
       "\n",
       "    .dataframe thead th {\n",
       "        text-align: right;\n",
       "    }\n",
       "</style>\n",
       "<table border=\"1\" class=\"dataframe\">\n",
       "  <thead>\n",
       "    <tr style=\"text-align: right;\">\n",
       "      <th></th>\n",
       "      <th>pclass</th>\n",
       "      <th>survived</th>\n",
       "      <th>name</th>\n",
       "      <th>sex</th>\n",
       "      <th>age</th>\n",
       "      <th>sibsp</th>\n",
       "      <th>parch</th>\n",
       "      <th>ticket</th>\n",
       "      <th>fare</th>\n",
       "      <th>cabin</th>\n",
       "      <th>embarked</th>\n",
       "      <th>boat</th>\n",
       "      <th>body</th>\n",
       "      <th>home.dest</th>\n",
       "    </tr>\n",
       "  </thead>\n",
       "  <tbody>\n",
       "    <tr>\n",
       "      <th>0</th>\n",
       "      <td>1</td>\n",
       "      <td>1</td>\n",
       "      <td>Allen, Miss. Elisabeth Walton</td>\n",
       "      <td>female</td>\n",
       "      <td>29</td>\n",
       "      <td>0</td>\n",
       "      <td>0</td>\n",
       "      <td>24160</td>\n",
       "      <td>211.3375</td>\n",
       "      <td>B5</td>\n",
       "      <td>S</td>\n",
       "      <td>2</td>\n",
       "      <td>?</td>\n",
       "      <td>St Louis, MO</td>\n",
       "    </tr>\n",
       "    <tr>\n",
       "      <th>1</th>\n",
       "      <td>1</td>\n",
       "      <td>1</td>\n",
       "      <td>Allison, Master. Hudson Trevor</td>\n",
       "      <td>male</td>\n",
       "      <td>0.9167</td>\n",
       "      <td>1</td>\n",
       "      <td>2</td>\n",
       "      <td>113781</td>\n",
       "      <td>151.55</td>\n",
       "      <td>C22 C26</td>\n",
       "      <td>S</td>\n",
       "      <td>11</td>\n",
       "      <td>?</td>\n",
       "      <td>Montreal, PQ / Chesterville, ON</td>\n",
       "    </tr>\n",
       "    <tr>\n",
       "      <th>2</th>\n",
       "      <td>1</td>\n",
       "      <td>0</td>\n",
       "      <td>Allison, Miss. Helen Loraine</td>\n",
       "      <td>female</td>\n",
       "      <td>2</td>\n",
       "      <td>1</td>\n",
       "      <td>2</td>\n",
       "      <td>113781</td>\n",
       "      <td>151.55</td>\n",
       "      <td>C22 C26</td>\n",
       "      <td>S</td>\n",
       "      <td>?</td>\n",
       "      <td>?</td>\n",
       "      <td>Montreal, PQ / Chesterville, ON</td>\n",
       "    </tr>\n",
       "    <tr>\n",
       "      <th>3</th>\n",
       "      <td>1</td>\n",
       "      <td>0</td>\n",
       "      <td>Allison, Mr. Hudson Joshua Creighton</td>\n",
       "      <td>male</td>\n",
       "      <td>30</td>\n",
       "      <td>1</td>\n",
       "      <td>2</td>\n",
       "      <td>113781</td>\n",
       "      <td>151.55</td>\n",
       "      <td>C22 C26</td>\n",
       "      <td>S</td>\n",
       "      <td>?</td>\n",
       "      <td>135</td>\n",
       "      <td>Montreal, PQ / Chesterville, ON</td>\n",
       "    </tr>\n",
       "    <tr>\n",
       "      <th>4</th>\n",
       "      <td>1</td>\n",
       "      <td>0</td>\n",
       "      <td>Allison, Mrs. Hudson J C (Bessie Waldo Daniels)</td>\n",
       "      <td>female</td>\n",
       "      <td>25</td>\n",
       "      <td>1</td>\n",
       "      <td>2</td>\n",
       "      <td>113781</td>\n",
       "      <td>151.55</td>\n",
       "      <td>C22 C26</td>\n",
       "      <td>S</td>\n",
       "      <td>?</td>\n",
       "      <td>?</td>\n",
       "      <td>Montreal, PQ / Chesterville, ON</td>\n",
       "    </tr>\n",
       "  </tbody>\n",
       "</table>\n",
       "</div>"
      ],
      "text/plain": [
       "   pclass  survived                                             name     sex  \\\n",
       "0       1         1                    Allen, Miss. Elisabeth Walton  female   \n",
       "1       1         1                   Allison, Master. Hudson Trevor    male   \n",
       "2       1         0                     Allison, Miss. Helen Loraine  female   \n",
       "3       1         0             Allison, Mr. Hudson Joshua Creighton    male   \n",
       "4       1         0  Allison, Mrs. Hudson J C (Bessie Waldo Daniels)  female   \n",
       "\n",
       "      age  sibsp  parch  ticket      fare    cabin embarked boat body  \\\n",
       "0      29      0      0   24160  211.3375       B5        S    2    ?   \n",
       "1  0.9167      1      2  113781    151.55  C22 C26        S   11    ?   \n",
       "2       2      1      2  113781    151.55  C22 C26        S    ?    ?   \n",
       "3      30      1      2  113781    151.55  C22 C26        S    ?  135   \n",
       "4      25      1      2  113781    151.55  C22 C26        S    ?    ?   \n",
       "\n",
       "                         home.dest  \n",
       "0                     St Louis, MO  \n",
       "1  Montreal, PQ / Chesterville, ON  \n",
       "2  Montreal, PQ / Chesterville, ON  \n",
       "3  Montreal, PQ / Chesterville, ON  \n",
       "4  Montreal, PQ / Chesterville, ON  "
      ]
     },
     "metadata": {},
     "execution_count": 261
    }
   ],
   "metadata": {}
  },
  {
   "cell_type": "code",
   "execution_count": 262,
   "source": [
    "# replace interrogation marks by NaN values\n",
    "\n",
    "data = data.replace('?', np.nan)"
   ],
   "outputs": [],
   "metadata": {}
  },
  {
   "cell_type": "code",
   "execution_count": 4,
   "source": [
    "# retain only the first cabin if more than\n",
    "# 1 are available per passenger\n",
    "\n",
    "def get_first_cabin(row):\n",
    "    try:\n",
    "        return row.split()[0]\n",
    "    except:\n",
    "        return np.nan\n",
    "    \n",
    "data['cabin'] = data['cabin'].apply(get_first_cabin)"
   ],
   "outputs": [],
   "metadata": {}
  },
  {
   "cell_type": "code",
   "execution_count": 263,
   "source": [
    "# extracts the title (Mr, Ms, etc) from the name variable\n",
    "\n",
    "def get_title(passenger):\n",
    "    line = passenger\n",
    "    if re.search('Mrs', line):\n",
    "        return 'Mrs'\n",
    "    elif re.search('Mr', line):\n",
    "        return 'Mr'\n",
    "    elif re.search('Miss', line):\n",
    "        return 'Miss'\n",
    "    elif re.search('Master', line):\n",
    "        return 'Master'\n",
    "    else:\n",
    "        return 'Other'\n",
    "    \n",
    "data['title'] = data['name'].apply(get_title)"
   ],
   "outputs": [],
   "metadata": {}
  },
  {
   "cell_type": "code",
   "execution_count": 264,
   "source": [
    "# cast numerical variables as floats\n",
    "\n",
    "data['fare'] = data['fare'].astype('float')\n",
    "data['age'] = data['age'].astype('float')"
   ],
   "outputs": [],
   "metadata": {}
  },
  {
   "cell_type": "code",
   "execution_count": 265,
   "source": [
    "# drop unnecessary variables\n",
    "\n",
    "data.drop(labels=['name','ticket', 'boat', 'body','home.dest'], axis=1, inplace=True)\n",
    "\n",
    "# display data\n",
    "data.head()"
   ],
   "outputs": [
    {
     "output_type": "execute_result",
     "data": {
      "text/html": [
       "<div>\n",
       "<style scoped>\n",
       "    .dataframe tbody tr th:only-of-type {\n",
       "        vertical-align: middle;\n",
       "    }\n",
       "\n",
       "    .dataframe tbody tr th {\n",
       "        vertical-align: top;\n",
       "    }\n",
       "\n",
       "    .dataframe thead th {\n",
       "        text-align: right;\n",
       "    }\n",
       "</style>\n",
       "<table border=\"1\" class=\"dataframe\">\n",
       "  <thead>\n",
       "    <tr style=\"text-align: right;\">\n",
       "      <th></th>\n",
       "      <th>pclass</th>\n",
       "      <th>survived</th>\n",
       "      <th>sex</th>\n",
       "      <th>age</th>\n",
       "      <th>sibsp</th>\n",
       "      <th>parch</th>\n",
       "      <th>fare</th>\n",
       "      <th>cabin</th>\n",
       "      <th>embarked</th>\n",
       "      <th>title</th>\n",
       "    </tr>\n",
       "  </thead>\n",
       "  <tbody>\n",
       "    <tr>\n",
       "      <th>0</th>\n",
       "      <td>1</td>\n",
       "      <td>1</td>\n",
       "      <td>female</td>\n",
       "      <td>29.0000</td>\n",
       "      <td>0</td>\n",
       "      <td>0</td>\n",
       "      <td>211.3375</td>\n",
       "      <td>B5</td>\n",
       "      <td>S</td>\n",
       "      <td>Miss</td>\n",
       "    </tr>\n",
       "    <tr>\n",
       "      <th>1</th>\n",
       "      <td>1</td>\n",
       "      <td>1</td>\n",
       "      <td>male</td>\n",
       "      <td>0.9167</td>\n",
       "      <td>1</td>\n",
       "      <td>2</td>\n",
       "      <td>151.5500</td>\n",
       "      <td>C22 C26</td>\n",
       "      <td>S</td>\n",
       "      <td>Master</td>\n",
       "    </tr>\n",
       "    <tr>\n",
       "      <th>2</th>\n",
       "      <td>1</td>\n",
       "      <td>0</td>\n",
       "      <td>female</td>\n",
       "      <td>2.0000</td>\n",
       "      <td>1</td>\n",
       "      <td>2</td>\n",
       "      <td>151.5500</td>\n",
       "      <td>C22 C26</td>\n",
       "      <td>S</td>\n",
       "      <td>Miss</td>\n",
       "    </tr>\n",
       "    <tr>\n",
       "      <th>3</th>\n",
       "      <td>1</td>\n",
       "      <td>0</td>\n",
       "      <td>male</td>\n",
       "      <td>30.0000</td>\n",
       "      <td>1</td>\n",
       "      <td>2</td>\n",
       "      <td>151.5500</td>\n",
       "      <td>C22 C26</td>\n",
       "      <td>S</td>\n",
       "      <td>Mr</td>\n",
       "    </tr>\n",
       "    <tr>\n",
       "      <th>4</th>\n",
       "      <td>1</td>\n",
       "      <td>0</td>\n",
       "      <td>female</td>\n",
       "      <td>25.0000</td>\n",
       "      <td>1</td>\n",
       "      <td>2</td>\n",
       "      <td>151.5500</td>\n",
       "      <td>C22 C26</td>\n",
       "      <td>S</td>\n",
       "      <td>Mrs</td>\n",
       "    </tr>\n",
       "  </tbody>\n",
       "</table>\n",
       "</div>"
      ],
      "text/plain": [
       "   pclass  survived     sex      age  sibsp  parch      fare    cabin  \\\n",
       "0       1         1  female  29.0000      0      0  211.3375       B5   \n",
       "1       1         1    male   0.9167      1      2  151.5500  C22 C26   \n",
       "2       1         0  female   2.0000      1      2  151.5500  C22 C26   \n",
       "3       1         0    male  30.0000      1      2  151.5500  C22 C26   \n",
       "4       1         0  female  25.0000      1      2  151.5500  C22 C26   \n",
       "\n",
       "  embarked   title  \n",
       "0        S    Miss  \n",
       "1        S  Master  \n",
       "2        S    Miss  \n",
       "3        S      Mr  \n",
       "4        S     Mrs  "
      ]
     },
     "metadata": {},
     "execution_count": 265
    }
   ],
   "metadata": {}
  },
  {
   "cell_type": "code",
   "execution_count": 266,
   "source": [
    "# save the data set\n",
    "\n",
    "data.to_csv('titanic.csv', index=False)"
   ],
   "outputs": [],
   "metadata": {}
  },
  {
   "cell_type": "markdown",
   "source": [
    "## Data Exploration\n",
    "\n",
    "### Find numerical and categorical variables"
   ],
   "metadata": {}
  },
  {
   "cell_type": "code",
   "execution_count": 267,
   "source": [
    "target = 'survived'"
   ],
   "outputs": [],
   "metadata": {}
  },
  {
   "cell_type": "code",
   "execution_count": 268,
   "source": [
    "vars_num = [var for var in data.columns if data[var].dtype != object and var != target] # fill your code here\n",
    "\n",
    "vars_cat = [var for var in data.columns if data[var].dtype == object] # fill your code here\n",
    "\n",
    "print('Number of numerical variables: {}'.format(len(vars_num)))\n",
    "print('Number of categorical variables: {}'.format(len(vars_cat)))"
   ],
   "outputs": [
    {
     "output_type": "stream",
     "name": "stdout",
     "text": [
      "Number of numerical variables: 5\n",
      "Number of categorical variables: 4\n"
     ]
    }
   ],
   "metadata": {}
  },
  {
   "cell_type": "markdown",
   "source": [
    "### Find missing values in variables"
   ],
   "metadata": {}
  },
  {
   "cell_type": "code",
   "execution_count": 269,
   "source": [
    "# first in numerical variables\n",
    "missing_num = [var for var in vars_num if data[var].isnull().sum() > 0]\n",
    "data[missing_num].isnull().mean().sort_values(ascending=False)"
   ],
   "outputs": [
    {
     "output_type": "execute_result",
     "data": {
      "text/plain": [
       "age     0.200917\n",
       "fare    0.000764\n",
       "dtype: float64"
      ]
     },
     "metadata": {},
     "execution_count": 269
    }
   ],
   "metadata": {}
  },
  {
   "cell_type": "code",
   "execution_count": 270,
   "source": [
    "# now in categorical variables\n",
    "missing_cat = [var for var in vars_cat if data[var].isnull().sum() > 0]\n",
    "data[missing_cat].isnull().mean().sort_values(ascending=False)\n"
   ],
   "outputs": [
    {
     "output_type": "execute_result",
     "data": {
      "text/plain": [
       "cabin       0.774637\n",
       "embarked    0.001528\n",
       "dtype: float64"
      ]
     },
     "metadata": {},
     "execution_count": 270
    }
   ],
   "metadata": {}
  },
  {
   "cell_type": "markdown",
   "source": [
    "### Determine cardinality of categorical variables"
   ],
   "metadata": {}
  },
  {
   "cell_type": "code",
   "execution_count": 271,
   "source": [
    "data[vars_cat].nunique().sort_values(ascending=False).plot.bar()"
   ],
   "outputs": [
    {
     "output_type": "execute_result",
     "data": {
      "text/plain": [
       "<AxesSubplot:>"
      ]
     },
     "metadata": {},
     "execution_count": 271
    },
    {
     "output_type": "display_data",
     "data": {
      "image/png": "[encoded data removed]",
      "text/plain": [
       "<Figure size 432x288 with 1 Axes>"
      ]
     },
     "metadata": {
      "needs_background": "light"
     }
    }
   ],
   "metadata": {}
  },
  {
   "cell_type": "markdown",
   "source": [
    "### Determine the distribution of numerical variables"
   ],
   "metadata": {}
  },
  {
   "cell_type": "code",
   "execution_count": 272,
   "source": [
    "data[vars_num].hist()"
   ],
   "outputs": [
    {
     "output_type": "execute_result",
     "data": {
      "text/plain": [
       "array([[<AxesSubplot:title={'center':'pclass'}>,\n",
       "        <AxesSubplot:title={'center':'age'}>],\n",
       "       [<AxesSubplot:title={'center':'sibsp'}>,\n",
       "        <AxesSubplot:title={'center':'parch'}>],\n",
       "       [<AxesSubplot:title={'center':'fare'}>, <AxesSubplot:>]],\n",
       "      dtype=object)"
      ]
     },
     "metadata": {},
     "execution_count": 272
    },
    {
     "output_type": "display_data",
     "data": {
      "image/png": "[encoded data removed]",
      "text/plain": [
       "<Figure size 432x288 with 6 Axes>"
      ]
     },
     "metadata": {
      "needs_background": "light"
     }
    }
   ],
   "metadata": {}
  },
  {
   "cell_type": "markdown",
   "source": [
    "## Separate data into train and test\n",
    "\n",
    "Use the code below for reproducibility. Don't change it."
   ],
   "metadata": {}
  },
  {
   "cell_type": "code",
   "execution_count": 287,
   "source": [
    "X_train, X_test, y_train, y_test = train_test_split(\n",
    "    data.drop('survived', axis=1),  # predictors\n",
    "    data['survived'],  # target\n",
    "    test_size=0.2,  # percentage of obs in test set\n",
    "    random_state=0)  # seed to ensure reproducibility\n",
    "\n",
    "X_train.shape, X_test.shape"
   ],
   "outputs": [
    {
     "output_type": "execute_result",
     "data": {
      "text/plain": [
       "((1047, 9), (262, 9))"
      ]
     },
     "metadata": {},
     "execution_count": 287
    }
   ],
   "metadata": {}
  },
  {
   "cell_type": "markdown",
   "source": [
    "## Feature Engineering\n",
    "\n",
    "### Extract only the letter (and drop the number) from the variable Cabin"
   ],
   "metadata": {}
  },
  {
   "cell_type": "code",
   "execution_count": 288,
   "source": [
    "X_train['cabin'] = X_train['cabin'].str.extract(r'([a-zA-Z])')\n",
    "X_test['cabin'] = X_test['cabin'].str.extract(r'([a-zA-Z])')"
   ],
   "outputs": [],
   "metadata": {}
  },
  {
   "cell_type": "markdown",
   "source": [
    "### Fill in Missing data in numerical variables:\n",
    "\n",
    "- Add a binary missing indicator\n",
    "- Fill NA in original variable with the median"
   ],
   "metadata": {}
  },
  {
   "cell_type": "code",
   "execution_count": 289,
   "source": [
    "for var in missing_num:\n",
    "    median = X_train[var].median()\n",
    "    print(var, median)\n",
    "#    X_train[var + '_na'] = np.where(X_train[var].isnull(), 1, 0)\n",
    "#    X_test[var + '_na'] = np.where(X_test[var].isnull(), 1, 0)\n",
    "\n",
    "    X_train[var].fillna(median, inplace=True)\n",
    "    X_test[var].fillna(median, inplace=True)\n",
    "#missing_num"
   ],
   "outputs": [
    {
     "output_type": "stream",
     "name": "stdout",
     "text": [
      "age 28.0\n",
      "fare 14.4542\n"
     ]
    }
   ],
   "metadata": {}
  },
  {
   "cell_type": "code",
   "execution_count": 290,
   "source": [
    "X_train[missing_num].isnull().sum()"
   ],
   "outputs": [
    {
     "output_type": "execute_result",
     "data": {
      "text/plain": [
       "age     0\n",
       "fare    0\n",
       "dtype: int64"
      ]
     },
     "metadata": {},
     "execution_count": 290
    }
   ],
   "metadata": {}
  },
  {
   "cell_type": "markdown",
   "source": [
    "### Replace Missing data in categorical variables with the string **Missing**"
   ],
   "metadata": {}
  },
  {
   "cell_type": "code",
   "execution_count": 291,
   "source": [
    "missing_cat"
   ],
   "outputs": [
    {
     "output_type": "execute_result",
     "data": {
      "text/plain": [
       "['cabin', 'embarked']"
      ]
     },
     "metadata": {},
     "execution_count": 291
    }
   ],
   "metadata": {}
  },
  {
   "cell_type": "code",
   "execution_count": 292,
   "source": [
    "X_train[missing_cat] = X_train[missing_cat].fillna('Missing')\n",
    "X_test[missing_cat] = X_test[missing_cat].fillna('Missing')"
   ],
   "outputs": [],
   "metadata": {}
  },
  {
   "cell_type": "code",
   "execution_count": 293,
   "source": [
    "X_train[missing_cat].isnull().sum()"
   ],
   "outputs": [
    {
     "output_type": "execute_result",
     "data": {
      "text/plain": [
       "cabin       0\n",
       "embarked    0\n",
       "dtype: int64"
      ]
     },
     "metadata": {},
     "execution_count": 293
    }
   ],
   "metadata": {}
  },
  {
   "cell_type": "markdown",
   "source": [
    "### Remove rare labels in categorical variables\n",
    "\n",
    "- remove labels present in less than 5 % of the passengers"
   ],
   "metadata": {}
  },
  {
   "cell_type": "code",
   "execution_count": 294,
   "source": [
    "for var in vars_cat:\n",
    "    index = pd.Index(X_train[var])\n",
    "    remove_label = []\n",
    "    #print(index.value_counts())\n",
    "    for el in zip(index.value_counts(normalize=True).index.tolist(), index.value_counts(normalize=True)):\n",
    "        if el[1] < 0.05:\n",
    "            remove_label.append(el[0])\n",
    "    for label in remove_label:\n",
    "        print(label)\n",
    "        X_train[var] = X_train[var].where(X_train[var] != label, 'Missing')\n",
    "        X_test[var] = X_test[var].where(X_test[var] != label, 'Missing')\n"
   ],
   "outputs": [
    {
     "output_type": "stream",
     "name": "stdout",
     "text": [
      "B\n",
      "D\n",
      "E\n",
      "A\n",
      "F\n",
      "G\n",
      "T\n",
      "Missing\n",
      "Master\n",
      "Other\n"
     ]
    }
   ],
   "metadata": {}
  },
  {
   "cell_type": "code",
   "execution_count": 295,
   "source": [
    "X_train"
   ],
   "outputs": [
    {
     "output_type": "execute_result",
     "data": {
      "text/html": [
       "<div>\n",
       "<style scoped>\n",
       "    .dataframe tbody tr th:only-of-type {\n",
       "        vertical-align: middle;\n",
       "    }\n",
       "\n",
       "    .dataframe tbody tr th {\n",
       "        vertical-align: top;\n",
       "    }\n",
       "\n",
       "    .dataframe thead th {\n",
       "        text-align: right;\n",
       "    }\n",
       "</style>\n",
       "<table border=\"1\" class=\"dataframe\">\n",
       "  <thead>\n",
       "    <tr style=\"text-align: right;\">\n",
       "      <th></th>\n",
       "      <th>pclass</th>\n",
       "      <th>sex</th>\n",
       "      <th>age</th>\n",
       "      <th>sibsp</th>\n",
       "      <th>parch</th>\n",
       "      <th>fare</th>\n",
       "      <th>cabin</th>\n",
       "      <th>embarked</th>\n",
       "      <th>title</th>\n",
       "    </tr>\n",
       "  </thead>\n",
       "  <tbody>\n",
       "    <tr>\n",
       "      <th>1118</th>\n",
       "      <td>3</td>\n",
       "      <td>male</td>\n",
       "      <td>25.0000</td>\n",
       "      <td>0</td>\n",
       "      <td>0</td>\n",
       "      <td>7.9250</td>\n",
       "      <td>Missing</td>\n",
       "      <td>S</td>\n",
       "      <td>Mr</td>\n",
       "    </tr>\n",
       "    <tr>\n",
       "      <th>44</th>\n",
       "      <td>1</td>\n",
       "      <td>female</td>\n",
       "      <td>41.0000</td>\n",
       "      <td>0</td>\n",
       "      <td>0</td>\n",
       "      <td>134.5000</td>\n",
       "      <td>Missing</td>\n",
       "      <td>C</td>\n",
       "      <td>Miss</td>\n",
       "    </tr>\n",
       "    <tr>\n",
       "      <th>1072</th>\n",
       "      <td>3</td>\n",
       "      <td>male</td>\n",
       "      <td>28.0000</td>\n",
       "      <td>0</td>\n",
       "      <td>0</td>\n",
       "      <td>7.7333</td>\n",
       "      <td>Missing</td>\n",
       "      <td>Q</td>\n",
       "      <td>Mr</td>\n",
       "    </tr>\n",
       "    <tr>\n",
       "      <th>1130</th>\n",
       "      <td>3</td>\n",
       "      <td>female</td>\n",
       "      <td>18.0000</td>\n",
       "      <td>0</td>\n",
       "      <td>0</td>\n",
       "      <td>7.7750</td>\n",
       "      <td>Missing</td>\n",
       "      <td>S</td>\n",
       "      <td>Miss</td>\n",
       "    </tr>\n",
       "    <tr>\n",
       "      <th>574</th>\n",
       "      <td>2</td>\n",
       "      <td>male</td>\n",
       "      <td>29.0000</td>\n",
       "      <td>1</td>\n",
       "      <td>0</td>\n",
       "      <td>21.0000</td>\n",
       "      <td>Missing</td>\n",
       "      <td>S</td>\n",
       "      <td>Mr</td>\n",
       "    </tr>\n",
       "    <tr>\n",
       "      <th>...</th>\n",
       "      <td>...</td>\n",
       "      <td>...</td>\n",
       "      <td>...</td>\n",
       "      <td>...</td>\n",
       "      <td>...</td>\n",
       "      <td>...</td>\n",
       "      <td>...</td>\n",
       "      <td>...</td>\n",
       "      <td>...</td>\n",
       "    </tr>\n",
       "    <tr>\n",
       "      <th>763</th>\n",
       "      <td>3</td>\n",
       "      <td>female</td>\n",
       "      <td>0.1667</td>\n",
       "      <td>1</td>\n",
       "      <td>2</td>\n",
       "      <td>20.5750</td>\n",
       "      <td>Missing</td>\n",
       "      <td>S</td>\n",
       "      <td>Miss</td>\n",
       "    </tr>\n",
       "    <tr>\n",
       "      <th>835</th>\n",
       "      <td>3</td>\n",
       "      <td>male</td>\n",
       "      <td>28.0000</td>\n",
       "      <td>0</td>\n",
       "      <td>0</td>\n",
       "      <td>8.0500</td>\n",
       "      <td>Missing</td>\n",
       "      <td>S</td>\n",
       "      <td>Mr</td>\n",
       "    </tr>\n",
       "    <tr>\n",
       "      <th>1216</th>\n",
       "      <td>3</td>\n",
       "      <td>female</td>\n",
       "      <td>28.0000</td>\n",
       "      <td>0</td>\n",
       "      <td>0</td>\n",
       "      <td>7.7333</td>\n",
       "      <td>Missing</td>\n",
       "      <td>Q</td>\n",
       "      <td>Miss</td>\n",
       "    </tr>\n",
       "    <tr>\n",
       "      <th>559</th>\n",
       "      <td>2</td>\n",
       "      <td>female</td>\n",
       "      <td>20.0000</td>\n",
       "      <td>0</td>\n",
       "      <td>0</td>\n",
       "      <td>36.7500</td>\n",
       "      <td>Missing</td>\n",
       "      <td>S</td>\n",
       "      <td>Miss</td>\n",
       "    </tr>\n",
       "    <tr>\n",
       "      <th>684</th>\n",
       "      <td>3</td>\n",
       "      <td>female</td>\n",
       "      <td>32.0000</td>\n",
       "      <td>1</td>\n",
       "      <td>1</td>\n",
       "      <td>15.5000</td>\n",
       "      <td>Missing</td>\n",
       "      <td>Q</td>\n",
       "      <td>Mrs</td>\n",
       "    </tr>\n",
       "  </tbody>\n",
       "</table>\n",
       "<p>1047 rows × 9 columns</p>\n",
       "</div>"
      ],
      "text/plain": [
       "      pclass     sex      age  sibsp  parch      fare    cabin embarked title\n",
       "1118       3    male  25.0000      0      0    7.9250  Missing        S    Mr\n",
       "44         1  female  41.0000      0      0  134.5000  Missing        C  Miss\n",
       "1072       3    male  28.0000      0      0    7.7333  Missing        Q    Mr\n",
       "1130       3  female  18.0000      0      0    7.7750  Missing        S  Miss\n",
       "574        2    male  29.0000      1      0   21.0000  Missing        S    Mr\n",
       "...      ...     ...      ...    ...    ...       ...      ...      ...   ...\n",
       "763        3  female   0.1667      1      2   20.5750  Missing        S  Miss\n",
       "835        3    male  28.0000      0      0    8.0500  Missing        S    Mr\n",
       "1216       3  female  28.0000      0      0    7.7333  Missing        Q  Miss\n",
       "559        2  female  20.0000      0      0   36.7500  Missing        S  Miss\n",
       "684        3  female  32.0000      1      1   15.5000  Missing        Q   Mrs\n",
       "\n",
       "[1047 rows x 9 columns]"
      ]
     },
     "metadata": {},
     "execution_count": 295
    }
   ],
   "metadata": {}
  },
  {
   "cell_type": "markdown",
   "source": [
    "### Perform one hot encoding of categorical variables into k-1 binary variables\n",
    "\n",
    "- k-1, means that if the variable contains 9 different categories, we create 8 different binary variables\n",
    "- Remember to drop the original categorical variable (the one with the strings) after the encoding"
   ],
   "metadata": {}
  },
  {
   "cell_type": "code",
   "execution_count": 296,
   "source": [
    "vars_cat"
   ],
   "outputs": [
    {
     "output_type": "execute_result",
     "data": {
      "text/plain": [
       "['sex', 'cabin', 'embarked', 'title']"
      ]
     },
     "metadata": {},
     "execution_count": 296
    }
   ],
   "metadata": {}
  },
  {
   "cell_type": "code",
   "execution_count": 297,
   "source": [
    "for var in vars_cat:\n",
    "    X_train = X_train.join(pd.get_dummies(X_train[var].append(X_test[var]), prefix=var))\n",
    "    X_test = X_test.join(pd.get_dummies(X_train[var].append(X_test[var]), prefix=var))\n"
   ],
   "outputs": [],
   "metadata": {}
  },
  {
   "cell_type": "code",
   "execution_count": 298,
   "source": [
    "X_train = X_train.drop(columns=vars_cat)\n",
    "X_test = X_test.drop(columns=vars_cat)"
   ],
   "outputs": [],
   "metadata": {}
  },
  {
   "cell_type": "code",
   "execution_count": 299,
   "source": [
    "print(X_train.columns)\n",
    "print(X_test.columns)"
   ],
   "outputs": [
    {
     "output_type": "stream",
     "name": "stdout",
     "text": [
      "Index(['pclass', 'age', 'sibsp', 'parch', 'fare', 'sex_female', 'sex_male',\n",
      "       'cabin_C', 'cabin_Missing', 'embarked_C', 'embarked_Missing',\n",
      "       'embarked_Q', 'embarked_S', 'title_Miss', 'title_Missing', 'title_Mr',\n",
      "       'title_Mrs'],\n",
      "      dtype='object')\n",
      "Index(['pclass', 'age', 'sibsp', 'parch', 'fare', 'sex_female', 'sex_male',\n",
      "       'cabin_C', 'cabin_Missing', 'embarked_C', 'embarked_Missing',\n",
      "       'embarked_Q', 'embarked_S', 'title_Miss', 'title_Missing', 'title_Mr',\n",
      "       'title_Mrs'],\n",
      "      dtype='object')\n"
     ]
    }
   ],
   "metadata": {}
  },
  {
   "cell_type": "markdown",
   "source": [
    "### Scale the variables\n",
    "\n",
    "- Use the standard scaler from Scikit-learn"
   ],
   "metadata": {}
  },
  {
   "cell_type": "code",
   "execution_count": 300,
   "source": [
    "scaler = StandardScaler()\n",
    "scaler.fit(X_train)"
   ],
   "outputs": [
    {
     "output_type": "execute_result",
     "data": {
      "text/plain": [
       "StandardScaler()"
      ]
     },
     "metadata": {},
     "execution_count": 300
    }
   ],
   "metadata": {}
  },
  {
   "cell_type": "markdown",
   "source": [
    "## Train the Logistic Regression model\n",
    "\n",
    "- Set the regularization parameter to 0.0005\n",
    "- Set the seed to 0"
   ],
   "metadata": {}
  },
  {
   "cell_type": "code",
   "execution_count": 303,
   "source": [
    "clf = LogisticRegression(random_state=0).fit(scaler.transform(X_train), y_train)"
   ],
   "outputs": [],
   "metadata": {}
  },
  {
   "cell_type": "code",
   "execution_count": 304,
   "source": [
    "clf.score(scaler.transform(X_test), y_test)"
   ],
   "outputs": [
    {
     "output_type": "execute_result",
     "data": {
      "text/plain": [
       "0.8053435114503816"
      ]
     },
     "metadata": {},
     "execution_count": 304
    }
   ],
   "metadata": {}
  },
  {
   "cell_type": "markdown",
   "source": [
    "## Make predictions and evaluate model performance\n",
    "\n",
    "Determine:\n",
    "- roc-auc\n",
    "- accuracy\n",
    "\n",
    "**Important, remember that to determine the accuracy, you need the outcome 0, 1, referring to survived or not. But to determine the roc-auc you need the probability of survival.**"
   ],
   "metadata": {}
  },
  {
   "cell_type": "code",
   "execution_count": 327,
   "source": [
    "roc_auc_score(y_test, [clf.predict_proba(scaler.transform(X_test)[:,1])])"
   ],
   "outputs": [
    {
     "output_type": "error",
     "ename": "ValueError",
     "evalue": "Expected 2D array, got 1D array instead:\narray=[ 0.66511788 -0.68870978  0.98366557 -0.13125133 -0.37016209 -2.04253743\n  1.46148709  1.78003477  2.17821938 -0.13125133 -0.13125133  0.7447548\n -2.30799118 -0.92762054 -0.68870978 -0.44979901  1.22257633  0.82439172\n  2.01894554  0.26693328 -0.60907285 -1.32580514 -0.13125133 -1.24616822\n -1.88326359  0.98366557 -0.84798362  0.42620712 -0.13125133 -1.24616822\n -2.04253743 -1.08689438 -0.44979901  1.26239479  1.70039785 -0.13125133\n  0.26693328 -0.13125133 -0.13125133 -0.44979901 -0.13125133  1.93930862\n  2.2578563  -2.12217435 -0.37016209 -2.20181127  0.38638866  1.22257633\n -2.32790041 -0.13125133 -1.00725746 -0.13125133 -0.44979901 -0.05161441\n -0.29052517 -0.13125133 -0.92762054  0.82439172 -0.60907285 -1.00725746\n -0.7683467   1.22257633 -1.64435283 -1.80362667 -2.20181127 -0.92762054\n -0.44979901 -0.13125133 -0.68870978 -0.92762054 -0.05161441  0.42620712\n -0.13125133  1.70039785 -0.13125133  0.18729636 -0.92762054  2.09858246\n -0.13125133 -0.13125133 -0.44979901 -1.96290051  0.10765943  0.98366557\n -0.13125133 -0.13125133  0.18729636  1.38185017 -0.13125133 -0.13125133\n -0.13125133 -0.13125133  0.98366557 -0.92762054 -0.13125133  1.30221325\n -1.24616822 -0.13125133 -0.68870978  0.66511788 -1.24616822 -0.92762054\n  0.26693328  0.02802251  0.02802251  0.82439172 -2.28808195 -0.13125133\n  0.42620712  1.38185017 -0.13125133  0.10765943 -0.92762054  1.54112401\n -0.60907285  1.38185017 -1.00725746  2.17821938  0.42620712 -0.44979901\n  1.46148709 -1.32580514 -0.13125133 -0.68870978  0.86421018 -0.13125133\n -0.13125133 -0.21088825  0.50584404 -0.21088825 -0.13125133 -0.13125133\n  1.38185017 -1.00725746  4.00986856 -0.60907285  2.57640398 -0.13125133\n -0.52943593 -0.13125133 -0.68870978  1.46148709 -0.68870978 -0.84798362\n  3.29313627 -0.13125133 -2.30135742 -0.13125133 -2.28144819 -0.13125133\n -2.12217435  2.73567783 -0.60907285 -1.80362667 -0.05161441 -0.13125133\n  3.69132088 -1.00725746  0.02802251 -1.1665313   0.38638866  1.38185017\n -0.13125133 -0.52943593 -0.37016209 -1.08689438 -0.13125133 -0.84798362\n  0.7447548  -0.40998055 -0.13125133  0.98366557 -0.13125133 -0.44979901\n  1.8596717   2.17821938 -0.7683467  -0.92762054 -0.7683467  -0.84798362\n  0.42620712 -0.13125133  0.7447548  -1.08689438  0.02802251 -0.13125133\n  1.93930862 -0.13125133  1.46148709 -1.08689438  0.82439172  0.7447548\n -0.13125133  2.17821938  0.50584404 -0.13125133  1.06330249 -0.37016209\n -0.52943593  0.3465702  -0.44979901 -0.13125133 -0.60907285  2.2578563\n  1.62076093 -0.84798362  1.06330249 -2.12217435 -1.00725746  0.3465702\n -0.13125133 -0.13125133 -0.52943593  1.70039785 -0.13125133  1.78003477\n  0.3465702   2.058764    0.22711482 -0.13125133 -0.60907285 -0.60907285\n -1.24616822  0.10765943  0.50584404  0.50584404 -0.13125133 -1.72398975\n -2.04253743 -1.1665313  -0.60907285  0.98366557 -0.37016209 -0.52943593\n -0.7683467  -0.21088825 -0.13125133  3.21349935 -0.72852824 -1.64435283\n  0.02802251 -1.00725746 -0.13125133 -0.13125133 -0.68870978 -2.28144819\n  0.02802251  1.22257633 -0.84798362 -1.72398975  0.02802251  0.06784097\n -2.29472367 -0.05161441  0.50584404 -0.13125133 -0.05161441 -0.60907285\n -0.13125133  0.02802251 -0.29052517 -0.13125133].\nReshape your data either using array.reshape(-1, 1) if your data has a single feature or array.reshape(1, -1) if it contains a single sample.",
     "traceback": [
      "\u001b[0;31m---------------------------------------------------------------------------\u001b[0m",
      "\u001b[0;31mValueError\u001b[0m                                Traceback (most recent call last)",
      "\u001b[0;32m/var/folders/5c/rmctnwx57jg6qy39ggw37h700000gn/T/ipykernel_2148/4141226667.py\u001b[0m in \u001b[0;36m<module>\u001b[0;34m\u001b[0m\n\u001b[0;32m----> 1\u001b[0;31m \u001b[0mroc_auc_score\u001b[0m\u001b[0;34m(\u001b[0m\u001b[0my_test\u001b[0m\u001b[0;34m,\u001b[0m \u001b[0;34m[\u001b[0m\u001b[0mclf\u001b[0m\u001b[0;34m.\u001b[0m\u001b[0mpredict_proba\u001b[0m\u001b[0;34m(\u001b[0m\u001b[0mscaler\u001b[0m\u001b[0;34m.\u001b[0m\u001b[0mtransform\u001b[0m\u001b[0;34m(\u001b[0m\u001b[0mX_test\u001b[0m\u001b[0;34m)\u001b[0m\u001b[0;34m[\u001b[0m\u001b[0;34m:\u001b[0m\u001b[0;34m,\u001b[0m\u001b[0;36m1\u001b[0m\u001b[0;34m]\u001b[0m\u001b[0;34m)\u001b[0m\u001b[0;34m]\u001b[0m\u001b[0;34m)\u001b[0m\u001b[0;34m\u001b[0m\u001b[0;34m\u001b[0m\u001b[0m\n\u001b[0m",
      "\u001b[0;32m~/opt/anaconda3/envs/udemy/lib/python3.7/site-packages/sklearn/linear_model/_logistic.py\u001b[0m in \u001b[0;36mpredict_proba\u001b[0;34m(self, X)\u001b[0m\n\u001b[1;32m   1467\u001b[0m                                                 self.solver == 'liblinear')))\n\u001b[1;32m   1468\u001b[0m         \u001b[0;32mif\u001b[0m \u001b[0movr\u001b[0m\u001b[0;34m:\u001b[0m\u001b[0;34m\u001b[0m\u001b[0;34m\u001b[0m\u001b[0m\n\u001b[0;32m-> 1469\u001b[0;31m             \u001b[0;32mreturn\u001b[0m \u001b[0msuper\u001b[0m\u001b[0;34m(\u001b[0m\u001b[0;34m)\u001b[0m\u001b[0;34m.\u001b[0m\u001b[0m_predict_proba_lr\u001b[0m\u001b[0;34m(\u001b[0m\u001b[0mX\u001b[0m\u001b[0;34m)\u001b[0m\u001b[0;34m\u001b[0m\u001b[0;34m\u001b[0m\u001b[0m\n\u001b[0m\u001b[1;32m   1470\u001b[0m         \u001b[0;32melse\u001b[0m\u001b[0;34m:\u001b[0m\u001b[0;34m\u001b[0m\u001b[0;34m\u001b[0m\u001b[0m\n\u001b[1;32m   1471\u001b[0m             \u001b[0mdecision\u001b[0m \u001b[0;34m=\u001b[0m \u001b[0mself\u001b[0m\u001b[0;34m.\u001b[0m\u001b[0mdecision_function\u001b[0m\u001b[0;34m(\u001b[0m\u001b[0mX\u001b[0m\u001b[0;34m)\u001b[0m\u001b[0;34m\u001b[0m\u001b[0;34m\u001b[0m\u001b[0m\n",
      "\u001b[0;32m~/opt/anaconda3/envs/udemy/lib/python3.7/site-packages/sklearn/linear_model/_base.py\u001b[0m in \u001b[0;36m_predict_proba_lr\u001b[0;34m(self, X)\u001b[0m\n\u001b[1;32m    321\u001b[0m         \u001b[0mmulticlass\u001b[0m \u001b[0;32mis\u001b[0m \u001b[0mhandled\u001b[0m \u001b[0mby\u001b[0m \u001b[0mnormalizing\u001b[0m \u001b[0mthat\u001b[0m \u001b[0mover\u001b[0m \u001b[0mall\u001b[0m \u001b[0mclasses\u001b[0m\u001b[0;34m.\u001b[0m\u001b[0;34m\u001b[0m\u001b[0;34m\u001b[0m\u001b[0m\n\u001b[1;32m    322\u001b[0m         \"\"\"\n\u001b[0;32m--> 323\u001b[0;31m         \u001b[0mprob\u001b[0m \u001b[0;34m=\u001b[0m \u001b[0mself\u001b[0m\u001b[0;34m.\u001b[0m\u001b[0mdecision_function\u001b[0m\u001b[0;34m(\u001b[0m\u001b[0mX\u001b[0m\u001b[0;34m)\u001b[0m\u001b[0;34m\u001b[0m\u001b[0;34m\u001b[0m\u001b[0m\n\u001b[0m\u001b[1;32m    324\u001b[0m         \u001b[0mexpit\u001b[0m\u001b[0;34m(\u001b[0m\u001b[0mprob\u001b[0m\u001b[0;34m,\u001b[0m \u001b[0mout\u001b[0m\u001b[0;34m=\u001b[0m\u001b[0mprob\u001b[0m\u001b[0;34m)\u001b[0m\u001b[0;34m\u001b[0m\u001b[0;34m\u001b[0m\u001b[0m\n\u001b[1;32m    325\u001b[0m         \u001b[0;32mif\u001b[0m \u001b[0mprob\u001b[0m\u001b[0;34m.\u001b[0m\u001b[0mndim\u001b[0m \u001b[0;34m==\u001b[0m \u001b[0;36m1\u001b[0m\u001b[0;34m:\u001b[0m\u001b[0;34m\u001b[0m\u001b[0;34m\u001b[0m\u001b[0m\n",
      "\u001b[0;32m~/opt/anaconda3/envs/udemy/lib/python3.7/site-packages/sklearn/linear_model/_base.py\u001b[0m in \u001b[0;36mdecision_function\u001b[0;34m(self, X)\u001b[0m\n\u001b[1;32m    282\u001b[0m         \u001b[0mcheck_is_fitted\u001b[0m\u001b[0;34m(\u001b[0m\u001b[0mself\u001b[0m\u001b[0;34m)\u001b[0m\u001b[0;34m\u001b[0m\u001b[0;34m\u001b[0m\u001b[0m\n\u001b[1;32m    283\u001b[0m \u001b[0;34m\u001b[0m\u001b[0m\n\u001b[0;32m--> 284\u001b[0;31m         \u001b[0mX\u001b[0m \u001b[0;34m=\u001b[0m \u001b[0mcheck_array\u001b[0m\u001b[0;34m(\u001b[0m\u001b[0mX\u001b[0m\u001b[0;34m,\u001b[0m \u001b[0maccept_sparse\u001b[0m\u001b[0;34m=\u001b[0m\u001b[0;34m'csr'\u001b[0m\u001b[0;34m)\u001b[0m\u001b[0;34m\u001b[0m\u001b[0;34m\u001b[0m\u001b[0m\n\u001b[0m\u001b[1;32m    285\u001b[0m \u001b[0;34m\u001b[0m\u001b[0m\n\u001b[1;32m    286\u001b[0m         \u001b[0mn_features\u001b[0m \u001b[0;34m=\u001b[0m \u001b[0mself\u001b[0m\u001b[0;34m.\u001b[0m\u001b[0mcoef_\u001b[0m\u001b[0;34m.\u001b[0m\u001b[0mshape\u001b[0m\u001b[0;34m[\u001b[0m\u001b[0;36m1\u001b[0m\u001b[0;34m]\u001b[0m\u001b[0;34m\u001b[0m\u001b[0;34m\u001b[0m\u001b[0m\n",
      "\u001b[0;32m~/opt/anaconda3/envs/udemy/lib/python3.7/site-packages/sklearn/utils/validation.py\u001b[0m in \u001b[0;36minner_f\u001b[0;34m(*args, **kwargs)\u001b[0m\n\u001b[1;32m     61\u001b[0m             \u001b[0mextra_args\u001b[0m \u001b[0;34m=\u001b[0m \u001b[0mlen\u001b[0m\u001b[0;34m(\u001b[0m\u001b[0margs\u001b[0m\u001b[0;34m)\u001b[0m \u001b[0;34m-\u001b[0m \u001b[0mlen\u001b[0m\u001b[0;34m(\u001b[0m\u001b[0mall_args\u001b[0m\u001b[0;34m)\u001b[0m\u001b[0;34m\u001b[0m\u001b[0;34m\u001b[0m\u001b[0m\n\u001b[1;32m     62\u001b[0m             \u001b[0;32mif\u001b[0m \u001b[0mextra_args\u001b[0m \u001b[0;34m<=\u001b[0m \u001b[0;36m0\u001b[0m\u001b[0;34m:\u001b[0m\u001b[0;34m\u001b[0m\u001b[0;34m\u001b[0m\u001b[0m\n\u001b[0;32m---> 63\u001b[0;31m                 \u001b[0;32mreturn\u001b[0m \u001b[0mf\u001b[0m\u001b[0;34m(\u001b[0m\u001b[0;34m*\u001b[0m\u001b[0margs\u001b[0m\u001b[0;34m,\u001b[0m \u001b[0;34m**\u001b[0m\u001b[0mkwargs\u001b[0m\u001b[0;34m)\u001b[0m\u001b[0;34m\u001b[0m\u001b[0;34m\u001b[0m\u001b[0m\n\u001b[0m\u001b[1;32m     64\u001b[0m \u001b[0;34m\u001b[0m\u001b[0m\n\u001b[1;32m     65\u001b[0m             \u001b[0;31m# extra_args > 0\u001b[0m\u001b[0;34m\u001b[0m\u001b[0;34m\u001b[0m\u001b[0;34m\u001b[0m\u001b[0m\n",
      "\u001b[0;32m~/opt/anaconda3/envs/udemy/lib/python3.7/site-packages/sklearn/utils/validation.py\u001b[0m in \u001b[0;36mcheck_array\u001b[0;34m(array, accept_sparse, accept_large_sparse, dtype, order, copy, force_all_finite, ensure_2d, allow_nd, ensure_min_samples, ensure_min_features, estimator)\u001b[0m\n\u001b[1;32m    639\u001b[0m                     \u001b[0;34m\"Reshape your data either using array.reshape(-1, 1) if \"\u001b[0m\u001b[0;34m\u001b[0m\u001b[0;34m\u001b[0m\u001b[0m\n\u001b[1;32m    640\u001b[0m                     \u001b[0;34m\"your data has a single feature or array.reshape(1, -1) \"\u001b[0m\u001b[0;34m\u001b[0m\u001b[0;34m\u001b[0m\u001b[0m\n\u001b[0;32m--> 641\u001b[0;31m                     \"if it contains a single sample.\".format(array))\n\u001b[0m\u001b[1;32m    642\u001b[0m \u001b[0;34m\u001b[0m\u001b[0m\n\u001b[1;32m    643\u001b[0m         \u001b[0;31m# make sure we actually converted to numeric:\u001b[0m\u001b[0;34m\u001b[0m\u001b[0;34m\u001b[0m\u001b[0;34m\u001b[0m\u001b[0m\n",
      "\u001b[0;31mValueError\u001b[0m: Expected 2D array, got 1D array instead:\narray=[ 0.66511788 -0.68870978  0.98366557 -0.13125133 -0.37016209 -2.04253743\n  1.46148709  1.78003477  2.17821938 -0.13125133 -0.13125133  0.7447548\n -2.30799118 -0.92762054 -0.68870978 -0.44979901  1.22257633  0.82439172\n  2.01894554  0.26693328 -0.60907285 -1.32580514 -0.13125133 -1.24616822\n -1.88326359  0.98366557 -0.84798362  0.42620712 -0.13125133 -1.24616822\n -2.04253743 -1.08689438 -0.44979901  1.26239479  1.70039785 -0.13125133\n  0.26693328 -0.13125133 -0.13125133 -0.44979901 -0.13125133  1.93930862\n  2.2578563  -2.12217435 -0.37016209 -2.20181127  0.38638866  1.22257633\n -2.32790041 -0.13125133 -1.00725746 -0.13125133 -0.44979901 -0.05161441\n -0.29052517 -0.13125133 -0.92762054  0.82439172 -0.60907285 -1.00725746\n -0.7683467   1.22257633 -1.64435283 -1.80362667 -2.20181127 -0.92762054\n -0.44979901 -0.13125133 -0.68870978 -0.92762054 -0.05161441  0.42620712\n -0.13125133  1.70039785 -0.13125133  0.18729636 -0.92762054  2.09858246\n -0.13125133 -0.13125133 -0.44979901 -1.96290051  0.10765943  0.98366557\n -0.13125133 -0.13125133  0.18729636  1.38185017 -0.13125133 -0.13125133\n -0.13125133 -0.13125133  0.98366557 -0.92762054 -0.13125133  1.30221325\n -1.24616822 -0.13125133 -0.68870978  0.66511788 -1.24616822 -0.92762054\n  0.26693328  0.02802251  0.02802251  0.82439172 -2.28808195 -0.13125133\n  0.42620712  1.38185017 -0.13125133  0.10765943 -0.92762054  1.54112401\n -0.60907285  1.38185017 -1.00725746  2.17821938  0.42620712 -0.44979901\n  1.46148709 -1.32580514 -0.13125133 -0.68870978  0.86421018 -0.13125133\n -0.13125133 -0.21088825  0.50584404 -0.21088825 -0.13125133 -0.13125133\n  1.38185017 -1.00725746  4.00986856 -0.60907285  2.57640398 -0.13125133\n -0.52943593 -0.13125133 -0.68870978  1.46148709 -0.68870978 -0.84798362\n  3.29313627 -0.13125133 -2.30135742 -0.13125133 -2.28144819 -0.13125133\n -2.12217435  2.73567783 -0.60907285 -1.80362667 -0.05161441 -0.13125133\n  3.69132088 -1.00725746  0.02802251 -1.1665313   0.38638866  1.38185017\n -0.13125133 -0.52943593 -0.37016209 -1.08689438 -0.13125133 -0.84798362\n  0.7447548  -0.40998055 -0.13125133  0.98366557 -0.13125133 -0.44979901\n  1.8596717   2.17821938 -0.7683467  -0.92762054 -0.7683467  -0.84798362\n  0.42620712 -0.13125133  0.7447548  -1.08689438  0.02802251 -0.13125133\n  1.93930862 -0.13125133  1.46148709 -1.08689438  0.82439172  0.7447548\n -0.13125133  2.17821938  0.50584404 -0.13125133  1.06330249 -0.37016209\n -0.52943593  0.3465702  -0.44979901 -0.13125133 -0.60907285  2.2578563\n  1.62076093 -0.84798362  1.06330249 -2.12217435 -1.00725746  0.3465702\n -0.13125133 -0.13125133 -0.52943593  1.70039785 -0.13125133  1.78003477\n  0.3465702   2.058764    0.22711482 -0.13125133 -0.60907285 -0.60907285\n -1.24616822  0.10765943  0.50584404  0.50584404 -0.13125133 -1.72398975\n -2.04253743 -1.1665313  -0.60907285  0.98366557 -0.37016209 -0.52943593\n -0.7683467  -0.21088825 -0.13125133  3.21349935 -0.72852824 -1.64435283\n  0.02802251 -1.00725746 -0.13125133 -0.13125133 -0.68870978 -2.28144819\n  0.02802251  1.22257633 -0.84798362 -1.72398975  0.02802251  0.06784097\n -2.29472367 -0.05161441  0.50584404 -0.13125133 -0.05161441 -0.60907285\n -0.13125133  0.02802251 -0.29052517 -0.13125133].\nReshape your data either using array.reshape(-1, 1) if your data has a single feature or array.reshape(1, -1) if it contains a single sample."
     ]
    }
   ],
   "metadata": {}
  },
  {
   "cell_type": "code",
   "execution_count": 325,
   "source": [
    "[clf.predict_proba(scaler.transform(X_test))[:,1]]"
   ],
   "outputs": [
    {
     "output_type": "execute_result",
     "data": {
      "text/plain": [
       "[array([0.06974097, 0.77303775, 0.10605762, 0.09249114, 0.22321735,\n",
       "        0.60307761, 0.26433772, 0.45908798, 0.09782803, 0.09085687,\n",
       "        0.31919143, 0.08710933, 0.58855813, 0.63554317, 0.92743915,\n",
       "        0.21706351, 0.68875995, 0.46149417, 0.93065631, 0.07967249,\n",
       "        0.10585554, 0.10256864, 0.09079133, 0.88779836, 0.48379309,\n",
       "        0.80218423, 0.24241851, 0.13255783, 0.10729404, 0.66031131,\n",
       "        0.80496107, 0.95288827, 0.78448615, 0.18190522, 0.86489047,\n",
       "        0.09072054, 0.07963775, 0.40448405, 0.15711712, 0.10077053,\n",
       "        0.0906382 , 0.10952409, 0.31606659, 0.57545661, 0.49154018,\n",
       "        0.16098043, 0.13369556, 0.94353598, 0.61250839, 0.09100927,\n",
       "        0.81533814, 0.09079978, 0.1007276 , 0.54761198, 0.09569066,\n",
       "        0.09084101, 0.93857522, 0.54114579, 0.64491505, 0.89242874,\n",
       "        0.1120948 , 0.64158296, 0.34653693, 0.47663463, 0.39328083,\n",
       "        0.7117154 , 0.21837183, 0.15711712, 0.10880182, 0.67081542,\n",
       "        0.8099063 , 0.07535244, 0.39189381, 0.04908119, 0.60460409,\n",
       "        0.94166543, 0.24772433, 0.88119128, 0.51630147, 0.1050344 ,\n",
       "        0.23624627, 0.71849185, 0.18488185, 0.29895586, 0.42696903,\n",
       "        0.95268517, 0.11053796, 0.05464141, 0.19312338, 0.10390671,\n",
       "        0.15711712, 0.15711712, 0.06279444, 0.14753057, 0.01644071,\n",
       "        0.4555424 , 0.13030216, 0.5229358 , 0.17121769, 0.90697999,\n",
       "        0.30393934, 0.07059615, 0.40582737, 0.61548194, 0.08656535,\n",
       "        0.11131557, 0.7181966 , 0.10523916, 0.07556681, 0.27965723,\n",
       "        0.40663226, 0.38664878, 0.28552716, 0.25847445, 0.60907581,\n",
       "        0.12689936, 0.29141357, 0.33845469, 0.17498425, 0.67136276,\n",
       "        0.41973573, 0.33846453, 0.54481585, 0.57611448, 0.0665933 ,\n",
       "        0.1050344 , 0.09080188, 0.09295867, 0.57542592, 0.32544445,\n",
       "        0.09080188, 0.54481585, 0.12537527, 0.45982495, 0.12667558,\n",
       "        0.1060435 , 0.09855941, 0.60451535, 0.10311472, 0.60488869,\n",
       "        0.2683038 , 0.91647579, 0.10895335, 0.11452853, 0.27159858,\n",
       "        0.26983481, 0.68183346, 0.09080188, 0.8730412 , 0.38937044,\n",
       "        0.42406361, 0.25163058, 0.22696945, 0.81246481, 0.15362414,\n",
       "        0.15711883, 0.64213392, 0.94087811, 0.14966958, 0.13384947,\n",
       "        0.08877629, 0.26936989, 0.31918862, 0.56354593, 0.11339873,\n",
       "        0.78572419, 0.1050344 , 0.11204393, 0.06790883, 0.09947855,\n",
       "        0.22528922, 0.30949973, 0.60462554, 0.10117497, 0.685009  ,\n",
       "        0.36772005, 0.11165212, 0.8993581 , 0.62100773, 0.96895185,\n",
       "        0.9826254 , 0.1050344 , 0.47844453, 0.26780232, 0.85121377,\n",
       "        0.6286173 , 0.91210109, 0.15711883, 0.12309081, 0.12393601,\n",
       "        0.79500168, 0.34869663, 0.95911275, 0.19513178, 0.33621675,\n",
       "        0.59230388, 0.08788627, 0.85200513, 0.10373443, 0.12951004,\n",
       "        0.13519053, 0.09084101, 0.10608843, 0.90478731, 0.26805936,\n",
       "        0.11444287, 0.12211181, 0.13213498, 0.12042501, 0.07759478,\n",
       "        0.60469899, 0.27287244, 0.22330648, 0.04912423, 0.77534468,\n",
       "        0.111234  , 0.12951004, 0.04343482, 0.22729246, 0.09058756,\n",
       "        0.89048214, 0.66702911, 0.92402328, 0.95207422, 0.75412432,\n",
       "        0.05249729, 0.51630147, 0.77390027, 0.65494762, 0.77905656,\n",
       "        0.81189949, 0.29912493, 0.09798386, 0.60086067, 0.11201072,\n",
       "        0.1179264 , 0.60458264, 0.06900304, 0.10999686, 0.31540163,\n",
       "        0.14967122, 0.21275847, 0.09264601, 0.19942424, 0.12548038,\n",
       "        0.32998219, 0.25604139, 0.2814044 , 0.77478049, 0.15529669,\n",
       "        0.08602025, 0.0850907 , 0.64656535, 0.08845669, 0.77941788,\n",
       "        0.15711712, 0.7601278 , 0.10608843, 0.09080188, 0.19042436,\n",
       "        0.20873981, 0.09084101])]"
      ]
     },
     "metadata": {},
     "execution_count": 325
    }
   ],
   "metadata": {}
  },
  {
   "cell_type": "markdown",
   "source": [
    "That's it! Well done\n",
    "\n",
    "**Keep this code safe, as we will use this notebook later on, to build production code, in our next assignement!!**"
   ],
   "metadata": {}
  }
 ],
 "metadata": {
  "kernelspec": {
   "name": "python3",
   "display_name": "Python 3.7.11 64-bit ('udemy': conda)"
  },
  "language_info": {
   "codemirror_mode": {
    "name": "ipython",
    "version": 3
   },
   "file_extension": ".py",
   "mimetype": "text/x-python",
   "name": "python",
   "nbconvert_exporter": "python",
   "pygments_lexer": "ipython3",
   "version": "3.7.11"
  },
  "toc": {
   "base_numbering": 1,
   "nav_menu": {},
   "number_sections": true,
   "sideBar": true,
   "skip_h1_title": false,
   "title_cell": "Table of Contents",
   "title_sidebar": "Contents",
   "toc_cell": false,
   "toc_position": {},
   "toc_section_display": true,
   "toc_window_display": true
  },
  "interpreter": {
   "hash": "451160d8d49863236c1e2b8bff1505e4a2e2f673400ac37053faf27e036817ac"
  }
 },
 "nbformat": 4,
 "nbformat_minor": 2
}